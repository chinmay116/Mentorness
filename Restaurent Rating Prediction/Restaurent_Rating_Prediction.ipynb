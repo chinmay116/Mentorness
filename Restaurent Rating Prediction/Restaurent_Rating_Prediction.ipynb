{
 "cells": [
  {
   "cell_type": "code",
   "execution_count": 4,
   "id": "8a35bd74",
   "metadata": {},
   "outputs": [],
   "source": [
    "import pandas as pd\n",
    "from sklearn.preprocessing import StandardScaler\n",
    "from sklearn.model_selection import train_test_split\n",
    "from sklearn.linear_model import LinearRegression\n",
    "from sklearn.tree import DecisionTreeRegressor\n",
    "from sklearn.ensemble import RandomForestRegressor\n",
    "from sklearn.metrics import mean_squared_error\n",
    "from sklearn.metrics import accuracy_score"
   ]
  },
  {
   "cell_type": "code",
   "execution_count": 5,
   "id": "03d02fa5",
   "metadata": {},
   "outputs": [
    {
     "data": {
      "text/plain": [
       "Restaurant ID           0\n",
       "Restaurant Name         0\n",
       "Country Code            0\n",
       "City                    0\n",
       "Address                 0\n",
       "Locality                0\n",
       "Locality Verbose        0\n",
       "Longitude               0\n",
       "Latitude                0\n",
       "Cuisines                9\n",
       "Average Cost for two    0\n",
       "Currency                0\n",
       "Has Table booking       0\n",
       "Has Online delivery     0\n",
       "Is delivering now       0\n",
       "Switch to order menu    0\n",
       "Price range             0\n",
       "Aggregate rating        0\n",
       "Rating color            0\n",
       "Rating text             0\n",
       "Votes                   0\n",
       "dtype: int64"
      ]
     },
     "execution_count": 5,
     "metadata": {},
     "output_type": "execute_result"
    }
   ],
   "source": [
    "# Load the dataset\n",
    "data = pd.read_csv('Dataset.csv')\n",
    "\n",
    "# Finding the missing values\n",
    "data.isnull().sum()"
   ]
  },
  {
   "cell_type": "code",
   "execution_count": 6,
   "id": "1c62ec8b",
   "metadata": {},
   "outputs": [],
   "source": [
    "# Fill missing values in the 'Cuisines' column with 'Unknown'\n",
    "data['Cuisines'].fillna('Unknown', inplace=True)\n",
    "\n",
    "# Define categorical columns\n",
    "categorical_columns = ['Restaurant Name', 'City', 'Locality', 'Locality Verbose', 'Cuisines', 'Currency',\n",
    "                       'Has Table booking', 'Has Online delivery', 'Is delivering now', 'Switch to order menu', \n",
    "                       'Rating color', 'Rating text', 'Address']\n",
    "\n",
    "# One-hot encode categorical variables\n",
    "data = pd.get_dummies(data, columns=['Restaurant Name', 'City', 'Locality', 'Locality Verbose', 'Cuisines', 'Currency',\n",
    "                                     'Has Table booking', 'Has Online delivery', 'Is delivering now', 'Switch to order menu', \n",
    "                                     'Rating color', 'Rating text', 'Address'], drop_first=True)"
   ]
  },
  {
   "cell_type": "markdown",
   "id": "f91b7baa",
   "metadata": {},
   "source": [
    " # Example for get_dummies\n",
    " \n",
    " # Original DataFrame:\n",
    "\n",
    "   ### City\n",
    "    New York\n",
    "    Los Angeles\n",
    "    Chicago\n",
    "    New York\n",
    " \n",
    "# City_New York\tCity_Los Angeles\tCity_Chicago\n",
    "          1\t                               0\t                         0\n",
    "          0\t                               1\t                         0\n",
    "          0\t                               0\t                         1\n",
    "          1\t                               0\t                         0\n"
   ]
  },
  {
   "cell_type": "code",
   "execution_count": 7,
   "id": "59c4ad0e",
   "metadata": {},
   "outputs": [],
   "source": [
    "# Normalize numerical features\n",
    "numerical_columns = ['Longitude', 'Latitude', 'Average Cost for two', 'Price range', 'Votes']\n",
    "scaler = StandardScaler()\n",
    "data[numerical_columns] = scaler.fit_transform(data[numerical_columns])"
   ]
  },
  {
   "cell_type": "code",
   "execution_count": 8,
   "id": "356b8c40",
   "metadata": {},
   "outputs": [],
   "source": [
    "# Prepare the feature set and target variable\n",
    "X = data.drop(columns=['Restaurant ID', 'Aggregate rating'])\n",
    "y = data['Aggregate rating']"
   ]
  },
  {
   "cell_type": "code",
   "execution_count": 9,
   "id": "3ad5a4cb",
   "metadata": {},
   "outputs": [],
   "source": [
    "# Split the data into training and testing sets\n",
    "X_train, X_test, y_train, y_test = train_test_split(X, y, test_size=0.2, random_state=42)"
   ]
  },
  {
   "cell_type": "code",
   "execution_count": 11,
   "id": "860b020b",
   "metadata": {},
   "outputs": [
    {
     "name": "stdout",
     "output_type": "stream",
     "text": [
      "Linear Regression MSE: 129991364191.36801\n"
     ]
    }
   ],
   "source": [
    "# Train and evaluate Linear Regression model\n",
    "lr_model = LinearRegression()\n",
    "lr_model.fit(X_train, y_train)\n",
    "y_pred_lr = lr_model.predict(X_test)\n",
    "print('Linear Regression MSE:', mean_squared_error(y_test, y_pred_lr))"
   ]
  },
  {
   "cell_type": "code",
   "execution_count": 12,
   "id": "68ae1bea",
   "metadata": {},
   "outputs": [
    {
     "name": "stdout",
     "output_type": "stream",
     "text": [
      "Decision Tree MSE: 0.05143380429094714\n"
     ]
    }
   ],
   "source": [
    "# Train and evaluate Decision Tree model\n",
    "dt_model = DecisionTreeRegressor(random_state=42)\n",
    "dt_model.fit(X_train, y_train)\n",
    "y_pred_dt = dt_model.predict(X_test)\n",
    "print('Decision Tree MSE:', mean_squared_error(y_test, y_pred_dt))"
   ]
  },
  {
   "cell_type": "code",
   "execution_count": 13,
   "id": "eb0d39a1",
   "metadata": {},
   "outputs": [
    {
     "name": "stdout",
     "output_type": "stream",
     "text": [
      "Random Forest MSE: 0.030054916797488153\n"
     ]
    }
   ],
   "source": [
    "# Train and evaluate Random Forest model\n",
    "rf_model = RandomForestRegressor(random_state=42)\n",
    "rf_model.fit(X_train, y_train)\n",
    "y_pred_rf = rf_model.predict(X_test)\n",
    "print('Random Forest MSE:', mean_squared_error(y_test, y_pred_rf))"
   ]
  },
  {
   "cell_type": "code",
   "execution_count": 14,
   "id": "e9d636f2",
   "metadata": {},
   "outputs": [],
   "source": [
    "def preprocess_input(user_input, scaler):\n",
    "    # Create a DataFrame from the user input\n",
    "    input_df = pd.DataFrame([user_input])\n",
    "    \n",
    "    # One-hot encode the input\n",
    "    input_df = pd.get_dummies(input_df, columns=['Restaurant Name', 'City', 'Locality', 'Locality Verbose', 'Cuisines', 'Currency',\n",
    "                                                 'Has Table booking', 'Has Online delivery', 'Is delivering now', 'Switch to order menu', \n",
    "                                                 'Rating color', 'Rating text', 'Address'], drop_first=True)\n",
    "    \n",
    "    # Ensure all columns in training data are present in the input\n",
    "    missing_cols = set(X_train.columns) - set(input_df.columns)\n",
    "    for col in missing_cols:\n",
    "        input_df[col] = 0\n",
    "    input_df = input_df[X_train.columns]\n",
    "    \n",
    "    # Normalize numerical features\n",
    "    input_df[numerical_columns] = scaler.transform(input_df[numerical_columns])\n",
    "    \n",
    "    return input_df"
   ]
  },
  {
   "cell_type": "code",
   "execution_count": 15,
   "id": "b5e038d4",
   "metadata": {},
   "outputs": [],
   "source": [
    "def predict_rating(user_input, model, scaler):\n",
    "    # Preprocess the input\n",
    "    preprocessed_input = preprocess_input(user_input, scaler)\n",
    "    \n",
    "    # Make a prediction\n",
    "    prediction = model.predict(preprocessed_input)\n",
    "    \n",
    "    return prediction[0]"
   ]
  },
  {
   "cell_type": "code",
   "execution_count": 17,
   "id": "18d1d29e",
   "metadata": {},
   "outputs": [
    {
     "name": "stderr",
     "output_type": "stream",
     "text": [
      "C:\\Users\\CHINMAY\\AppData\\Local\\Temp/ipykernel_13524/2216347671.py:13: PerformanceWarning: DataFrame is highly fragmented.  This is usually the result of calling `frame.insert` many times, which has poor performance.  Consider joining all columns at once using pd.concat(axis=1) instead.  To get a de-fragmented frame, use `newframe = frame.copy()`\n",
      "  input_df[col] = 0\n"
     ]
    },
    {
     "name": "stdout",
     "output_type": "stream",
     "text": [
      "Predicted Aggregate Rating: 4.464000000000002\n"
     ]
    }
   ],
   "source": [
    "# Example user input\n",
    "user_input = {\n",
    "    'Restaurant Name': 'Izakaya Kikufuji',\n",
    "    'Country Code': 162,\n",
    "    'City': 'Makati City',\n",
    "    'Address': 'Little Tokyo, 2277 Chino Roces Avenue, Legaspi Village, Makati City',\n",
    "    'Locality': 'Little Tokyo, Legaspi Village, Makati City',\n",
    "    'Locality Verbose': 'Little Tokyo, Legaspi Village, Makati City, Makati City',\n",
    "    'Longitude': 121.014101,\n",
    "    'Latitude': 14.553708,\n",
    "    'Cuisines': 'Japanese',\n",
    "    'Average Cost for two': 1200,\n",
    "    'Currency': 'Botswana Pula(P)',\n",
    "    'Has Table booking': 'Yes',\n",
    "    'Has Online delivery': 'No',\n",
    "    'Is delivering now': 'No',\n",
    "    'Switch to order menu': 'No',\n",
    "    'Price range': 3,\n",
    "    'Rating color': 'Dark Green',\n",
    "    'Rating text': 'Excellent',\n",
    "    'Votes': 591\n",
    "}\n",
    "\n",
    "# Ensure that all categorical values are strings\n",
    "for key in user_input.keys():\n",
    "    if key in categorical_columns:\n",
    "        user_input[key] = str(user_input[key])\n",
    "\n",
    "# Choose a trained model (e.g., lr_model, dt_model, rf_model)\n",
    "model = rf_model\n",
    "\n",
    "# Make a prediction\n",
    "predicted_rating = predict_rating(user_input, model, scaler)\n",
    "print('Predicted Aggregate Rating:', predicted_rating)\n"
   ]
  },
  {
   "cell_type": "code",
   "execution_count": null,
   "id": "41eb5f67",
   "metadata": {},
   "outputs": [],
   "source": []
  }
 ],
 "metadata": {
  "kernelspec": {
   "display_name": "Python 3 (ipykernel)",
   "language": "python",
   "name": "python3"
  },
  "language_info": {
   "codemirror_mode": {
    "name": "ipython",
    "version": 3
   },
   "file_extension": ".py",
   "mimetype": "text/x-python",
   "name": "python",
   "nbconvert_exporter": "python",
   "pygments_lexer": "ipython3",
   "version": "3.9.7"
  }
 },
 "nbformat": 4,
 "nbformat_minor": 5
}
